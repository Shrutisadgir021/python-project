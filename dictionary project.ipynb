{
 "cells": [
  {
   "cell_type": "code",
   "execution_count": 1,
   "id": "03dbe046-0ebe-4137-8c85-ec9dcac780bf",
   "metadata": {},
   "outputs": [
    {
     "name": "stdout",
     "output_type": "stream",
     "text": [
      "\n",
      "Choose an operation:\n",
      "1. Add entry\n",
      "2. Update entry\n",
      "3. Delete entry\n",
      "4. Search entry\n",
      "5. Display all entries\n",
      "6. Check if a key exists\n",
      "7. Get value for a key\n",
      "8. Exit\n"
     ]
    },
    {
     "name": "stdin",
     "output_type": "stream",
     "text": [
      "Enter your choice (1-8):  1\n",
      "Enter the key:  name\n",
      "Enter the value:  shrawani\n"
     ]
    },
    {
     "name": "stdout",
     "output_type": "stream",
     "text": [
      "Entry added: name -> shrawani\n",
      "\n",
      "Choose an operation:\n",
      "1. Add entry\n",
      "2. Update entry\n",
      "3. Delete entry\n",
      "4. Search entry\n",
      "5. Display all entries\n",
      "6. Check if a key exists\n",
      "7. Get value for a key\n",
      "8. Exit\n"
     ]
    },
    {
     "name": "stdin",
     "output_type": "stream",
     "text": [
      "Enter your choice (1-8):  5\n"
     ]
    },
    {
     "name": "stdout",
     "output_type": "stream",
     "text": [
      "All entries in the dictionary:\n",
      "name -> shrawani\n",
      "\n",
      "Choose an operation:\n",
      "1. Add entry\n",
      "2. Update entry\n",
      "3. Delete entry\n",
      "4. Search entry\n",
      "5. Display all entries\n",
      "6. Check if a key exists\n",
      "7. Get value for a key\n",
      "8. Exit\n"
     ]
    },
    {
     "name": "stdin",
     "output_type": "stream",
     "text": [
      "Enter your choice (1-8):  1\n",
      "Enter the key:  age\n",
      "Enter the value:  18\n"
     ]
    },
    {
     "name": "stdout",
     "output_type": "stream",
     "text": [
      "Entry added: age -> 18\n",
      "\n",
      "Choose an operation:\n",
      "1. Add entry\n",
      "2. Update entry\n",
      "3. Delete entry\n",
      "4. Search entry\n",
      "5. Display all entries\n",
      "6. Check if a key exists\n",
      "7. Get value for a key\n",
      "8. Exit\n"
     ]
    },
    {
     "name": "stdin",
     "output_type": "stream",
     "text": [
      "Enter your choice (1-8):  5\n"
     ]
    },
    {
     "name": "stdout",
     "output_type": "stream",
     "text": [
      "All entries in the dictionary:\n",
      "name -> shrawani\n",
      "age -> 18\n",
      "\n",
      "Choose an operation:\n",
      "1. Add entry\n",
      "2. Update entry\n",
      "3. Delete entry\n",
      "4. Search entry\n",
      "5. Display all entries\n",
      "6. Check if a key exists\n",
      "7. Get value for a key\n",
      "8. Exit\n"
     ]
    },
    {
     "name": "stdin",
     "output_type": "stream",
     "text": [
      "Enter your choice (1-8):  2\n",
      "Enter the key to update:  name\n",
      "Enter the new value:  shruti\n"
     ]
    },
    {
     "name": "stdout",
     "output_type": "stream",
     "text": [
      "Entry updated: name -> shrawani changed to shruti\n",
      "\n",
      "Choose an operation:\n",
      "1. Add entry\n",
      "2. Update entry\n",
      "3. Delete entry\n",
      "4. Search entry\n",
      "5. Display all entries\n",
      "6. Check if a key exists\n",
      "7. Get value for a key\n",
      "8. Exit\n"
     ]
    },
    {
     "name": "stdin",
     "output_type": "stream",
     "text": [
      "Enter your choice (1-8):  5\n"
     ]
    },
    {
     "name": "stdout",
     "output_type": "stream",
     "text": [
      "All entries in the dictionary:\n",
      "name -> shruti\n",
      "age -> 18\n",
      "\n",
      "Choose an operation:\n",
      "1. Add entry\n",
      "2. Update entry\n",
      "3. Delete entry\n",
      "4. Search entry\n",
      "5. Display all entries\n",
      "6. Check if a key exists\n",
      "7. Get value for a key\n",
      "8. Exit\n"
     ]
    },
    {
     "name": "stdin",
     "output_type": "stream",
     "text": [
      "Enter your choice (1-8):  4\n",
      "Enter the key to search:  name\n"
     ]
    },
    {
     "name": "stdout",
     "output_type": "stream",
     "text": [
      "Found: name -> shruti\n",
      "\n",
      "Choose an operation:\n",
      "1. Add entry\n",
      "2. Update entry\n",
      "3. Delete entry\n",
      "4. Search entry\n",
      "5. Display all entries\n",
      "6. Check if a key exists\n",
      "7. Get value for a key\n",
      "8. Exit\n"
     ]
    },
    {
     "name": "stdin",
     "output_type": "stream",
     "text": [
      "Enter your choice (1-8):  6\n",
      "Enter the key to check:  age\n"
     ]
    },
    {
     "name": "stdout",
     "output_type": "stream",
     "text": [
      "The key 'age' exists in the dictionary.\n",
      "\n",
      "Choose an operation:\n",
      "1. Add entry\n",
      "2. Update entry\n",
      "3. Delete entry\n",
      "4. Search entry\n",
      "5. Display all entries\n",
      "6. Check if a key exists\n",
      "7. Get value for a key\n",
      "8. Exit\n"
     ]
    },
    {
     "name": "stdin",
     "output_type": "stream",
     "text": [
      "Enter your choice (1-8):  8\n"
     ]
    },
    {
     "name": "stdout",
     "output_type": "stream",
     "text": [
      "Exiting the program.\n"
     ]
    }
   ],
   "source": [
    "class DictionaryManager:\n",
    "    def __init__(self):\n",
    "        self.data = {}\n",
    "\n",
    "    def add_entry(self, key, value):\n",
    "        if key in self.data:\n",
    "            print(f\"Key '{key}' already exists. Use update_entry to modify it.\")\n",
    "        else:\n",
    "            self.data[key] = value\n",
    "            print(f\"Entry added: {key} -> {value}\")\n",
    "\n",
    "    def update_entry(self, key, value):\n",
    "        if key in self.data:\n",
    "            old_value = self.data[key]\n",
    "            self.data[key] = value\n",
    "            print(f\"Entry updated: {key} -> {old_value} changed to {value}\")\n",
    "        else:\n",
    "            print(f\"Key '{key}' does not exist. Use add_entry to add it.\")\n",
    "\n",
    "    def delete_entry(self, key):\n",
    "        if key in self.data:\n",
    "            del self.data[key]\n",
    "            print(f\"Entry with key '{key}' deleted.\")\n",
    "        else:\n",
    "            print(f\"Key '{key}' not found.\")\n",
    "\n",
    "    def search_entry(self, key):\n",
    "        if key in self.data:\n",
    "            print(f\"Found: {key} -> {self.data[key]}\")\n",
    "        else:\n",
    "            print(f\"Key '{key}' not found in the dictionary.\")\n",
    "\n",
    "    def display_all_entries(self):\n",
    "        if self.data:\n",
    "            print(\"All entries in the dictionary:\")\n",
    "            for key, value in self.data.items():\n",
    "                print(f\"{key} -> {value}\")\n",
    "        else:\n",
    "            print(\"The dictionary is empty.\")\n",
    "\n",
    "    def key_exists(self, key):\n",
    "        return key in self.data\n",
    "\n",
    "    def get_value(self, key):\n",
    "        return self.data.get(key, None)\n",
    "\n",
    "\n",
    "# Creating an object of DictionaryManager\n",
    "my_dict_manager = DictionaryManager()\n",
    "\n",
    "# Interactive menu for user input\n",
    "while True:\n",
    "    print(\"\\nChoose an operation:\")\n",
    "    print(\"1. Add entry\")\n",
    "    print(\"2. Update entry\")\n",
    "    print(\"3. Delete entry\")\n",
    "    print(\"4. Search entry\")\n",
    "    print(\"5. Display all entries\")\n",
    "    print(\"6. Check if a key exists\")\n",
    "    print(\"7. Get value for a key\")\n",
    "    print(\"8. Exit\")\n",
    "\n",
    "    choice = input(\"Enter your choice (1-8): \")\n",
    "\n",
    "    if choice == '1':\n",
    "        key = input(\"Enter the key: \")\n",
    "        value = input(\"Enter the value: \")\n",
    "        my_dict_manager.add_entry(key, value)\n",
    "\n",
    "    elif choice == '2':\n",
    "        key = input(\"Enter the key to update: \")\n",
    "        value = input(\"Enter the new value: \")\n",
    "        my_dict_manager.update_entry(key, value)\n",
    "\n",
    "    elif choice == '3':\n",
    "        key = input(\"Enter the key to delete: \")\n",
    "        my_dict_manager.delete_entry(key)\n",
    "\n",
    "    elif choice == '4':\n",
    "        key = input(\"Enter the key to search: \")\n",
    "        my_dict_manager.search_entry(key)\n",
    "\n",
    "    elif choice == '5':\n",
    "        my_dict_manager.display_all_entries()\n",
    "\n",
    "    elif choice == '6':\n",
    "        key = input(\"Enter the key to check: \")\n",
    "        if my_dict_manager.key_exists(key):\n",
    "            print(f\"The key '{key}' exists in the dictionary.\")\n",
    "        else:\n",
    "            print(f\"The key '{key}' does not exist.\")\n",
    "\n",
    "    elif choice == '7':\n",
    "        key = input(\"Enter the key to get the value: \")\n",
    "        value = my_dict_manager.get_value(key)\n",
    "        if value is not None:\n",
    "            print(f\"The value for key '{key}' is: {value}\")\n",
    "        else:\n",
    "            print(f\"The key '{key}' does not exist.\")\n",
    "\n",
    "    elif choice == '8':\n",
    "        print(\"Exiting the program.\")\n",
    "        break\n",
    "\n",
    "    else:\n",
    "        print(\"Invalid choice. Please try again.\")\n"
   ]
  },
  {
   "cell_type": "code",
   "execution_count": null,
   "id": "861e169b-449e-4fcd-845f-14a12bbd071f",
   "metadata": {},
   "outputs": [],
   "source": []
  }
 ],
 "metadata": {
  "kernelspec": {
   "display_name": "Python 3 (ipykernel)",
   "language": "python",
   "name": "python3"
  },
  "language_info": {
   "codemirror_mode": {
    "name": "ipython",
    "version": 3
   },
   "file_extension": ".py",
   "mimetype": "text/x-python",
   "name": "python",
   "nbconvert_exporter": "python",
   "pygments_lexer": "ipython3",
   "version": "3.12.4"
  }
 },
 "nbformat": 4,
 "nbformat_minor": 5
}
